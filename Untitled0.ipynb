{
  "nbformat": 4,
  "nbformat_minor": 0,
  "metadata": {
    "colab": {
      "provenance": [],
      "authorship_tag": "ABX9TyNcvnMpwA40QWTp59CteajT",
      "include_colab_link": true
    },
    "kernelspec": {
      "name": "python3",
      "display_name": "Python 3"
    },
    "language_info": {
      "name": "python"
    }
  },
  "cells": [
    {
      "cell_type": "markdown",
      "metadata": {
        "id": "view-in-github",
        "colab_type": "text"
      },
      "source": [
        "<a href=\"https://colab.research.google.com/github/Lpsantos86/Estat-stica-Estoc-stica-transformada-em-imagens.-/blob/main/Untitled0.ipynb\" target=\"_parent\"><img src=\"https://colab.research.google.com/assets/colab-badge.svg\" alt=\"Open In Colab\"/></a>"
      ]
    },
    {
      "cell_type": "code",
      "execution_count": null,
      "metadata": {
        "colab": {
          "base_uri": "https://localhost:8080/"
        },
        "id": "4VLUD87GxMNK",
        "outputId": "6fba6f1a-977e-469f-b81e-5ca3c637bb1d"
      },
      "outputs": [
        {
          "output_type": "stream",
          "name": "stdout",
          "text": [
            "sdfsd\n"
          ]
        }
      ],
      "source": [
        "print (\"Olá Coisinha\")"
      ]
    },
    {
      "cell_type": "code",
      "source": [
        "import matplotlib.pyplot as plt\n",
        "from matplotlib.widgets import Button\n",
        "\n",
        "# Função para atualizar o gráfico Renko com base no número de tijolos positivos e negativos\n",
        "def update_renko_chart(ax, renko_prices, positive_ticks, negative_ticks, colors):\n",
        "    ax.clear()\n",
        "    for i in range(1, len(renko_prices)):\n",
        "        if renko_prices[i] > renko_prices[i - 1]:\n",
        "            color = colors[0]\n",
        "        else:\n",
        "            color = colors[1]\n",
        "\n",
        "        if i % positive_ticks == 0 or i % negative_ticks == 0:\n",
        "            linewidth = 2\n",
        "        else:\n",
        "            linewidth = 1\n",
        "\n",
        "        ax.plot([i - 1, i], [renko_prices[i - 1], renko_prices[i]], color=color, linewidth=linewidth)\n",
        "\n",
        "    ax.set_xlabel(\"Índice\")\n",
        "    ax.set_ylabel(\"Preço\")\n",
        "    ax.set_title(f\"Gráfico Renko Customizado para {symbol}\")\n",
        "\n",
        "# Função para atualizar as cores do gráfico\n",
        "def update_colors(val):\n",
        "    if val == 1:\n",
        "        colors = ('blue', 'red')\n",
        "    elif val == 2:\n",
        "        colors = ('green', 'purple')\n",
        "    else:\n",
        "        colors = ('cyan', 'magenta')\n",
        "    \n",
        "    update_renko_chart(ax, renko_prices, positive_ticks, negative_ticks, colors)\n",
        "    plt.draw()\n",
        "\n",
        "# Defina os parâmetros iniciais\n",
        "positive_ticks = 3\n",
        "negative_ticks = 4\n",
        "colors = ('blue', 'red')\n",
        "\n",
        "# Crie a figura e o eixo\n",
        "fig, ax = plt.subplots(figsize=(12, 6))\n",
        "\n",
        "# Atualize o gráfico Renko com os parâmetros iniciais\n",
        "update_renko_chart(ax, renko_prices, positive_ticks, negative_ticks, colors)\n",
        "\n",
        "# Adicione botões para atualizar as cores do gráfico\n",
        "ax_color1 = plt.axes([0.7, 0.05, 0.1, 0.075])\n",
        "ax_color2 = plt.axes([0.81, 0.05, 0.1, 0.075])\n",
        "ax_color3 = plt.axes([0.92, 0.05, 0.1, 0.075])\n",
        "\n",
        "button_color1 = Button(ax_color1, 'Cores 1')\n",
        "button_color2 = Button(ax_color2, 'Cores 2')\n",
        "button_color3 = Button(ax_color3, 'Cores 3')\n",
        "\n",
        "button_color1.on_clicked(lambda event: update_colors(1))\n",
        "button_color2.on_clicked(lambda event: update_colors(2))\n",
        "button_color3.on_clicked(lambda event: update_colors(3))\n",
        "\n",
        "plt.show()\n"
      ],
      "metadata": {
        "id": "OBiI66zz-mSp"
      },
      "execution_count": null,
      "outputs": []
    }
  ]
}